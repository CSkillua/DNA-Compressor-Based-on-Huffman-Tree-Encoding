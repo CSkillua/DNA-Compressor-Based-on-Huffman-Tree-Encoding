{
  "nbformat": 4,
  "nbformat_minor": 0,
  "metadata": {
    "colab": {
      "provenance": []
    },
    "kernelspec": {
      "name": "python3",
      "display_name": "Python 3"
    },
    "language_info": {
      "name": "python"
    }
  },
  "cells": [
    {
      "cell_type": "code",
      "execution_count": 4,
      "metadata": {
        "id": "vDPqjn3lesG3"
      },
      "outputs": [],
      "source": [
        "filename = \"genes.fasta.txt\"\n",
        "String=\"\"\n",
        "sequence=\"\"\n",
        "with open(filename) as diary_file:\n",
        "  n = 1\n",
        "\n",
        "  for line in diary_file:\n",
        "    if line[0]== '>':\n",
        "\n",
        "      String+= (str(n)+ \" \" + line)\n",
        "      n+=1\n",
        "\n",
        "    else:\n",
        "      sequence+=line.replace('\\n','')\n",
        "      #print(line.replace('\\n',''))\n",
        "      n += 1  "
      ]
    },
    {
      "cell_type": "code",
      "source": [
        "A=0\n",
        "C=0\n",
        "G=0\n",
        "T=0\n",
        "\n",
        "for i in sequence:\n",
        "  if (i=='A' or i=='a'):\n",
        "    A+=1\n",
        "\n",
        "  if (i=='C' or i=='c'):\n",
        "    C+=1\n",
        "  if (i=='G' or i=='g'):\n",
        "    G+=1\n",
        "\n",
        "  if (i=='T' or i=='t'):\n",
        "    T+=1\n",
        "\n"
      ],
      "metadata": {
        "id": "DWR7wvmGe81c"
      },
      "execution_count": 5,
      "outputs": []
    },
    {
      "cell_type": "code",
      "source": [
        "mer_counts = {}\n",
        "\n",
        "for i in range(len(sequence) - 1):\n",
        "        mer = sequence[i:i+2]\n",
        "        if mer in mer_counts:\n",
        "            mer_counts[mer] += 1\n",
        "        else:\n",
        "            mer_counts[mer] = 1\n",
        "    # Return the dictionary with the counts."
      ],
      "metadata": {
        "id": "KQNfNJBGfE2j"
      },
      "execution_count": 6,
      "outputs": []
    },
    {
      "cell_type": "code",
      "source": [
        "print(mer_counts,len(mer_counts))\n",
        "fin_max = max(mer_counts, key=mer_counts.get)\n",
        "print(mer_counts[fin_max],fin_max)\n",
        "\n"
      ],
      "metadata": {
        "colab": {
          "base_uri": "https://localhost:8080/"
        },
        "id": "SS5NiATPfJxD",
        "outputId": "35449763-510c-472b-956f-9e23bae232bf"
      },
      "execution_count": 7,
      "outputs": [
        {
          "output_type": "stream",
          "name": "stdout",
          "text": [
            "{'AC': 39, 'CC': 75, 'CT': 52, 'TT': 26, 'TG': 63, 'GA': 32, 'TA': 12, 'AT': 27, 'TC': 36, 'CA': 53, 'AA': 25, 'AG': 32, 'GG': 40, 'GC': 51, 'GT': 32, 'CG': 21} 16\n",
            "75 CC\n"
          ]
        }
      ]
    },
    {
      "cell_type": "code",
      "source": [
        "symbols= ['A','C','G','T',fin_max]\n",
        "frequencies =[A,C,G,T,mer_counts[fin_max]]"
      ],
      "metadata": {
        "id": "-YTiPFGrfQC0"
      },
      "execution_count": 8,
      "outputs": []
    },
    {
      "cell_type": "code",
      "source": [
        "import heapq\n",
        "\n",
        "class Node:\n",
        "    def __init__(self, symbol, frequency):\n",
        "        self.symbol = symbol\n",
        "        self.frequency = frequency\n",
        "        self.left = None\n",
        "        self.right = None\n",
        "\n",
        "    def __lt__(self, other):\n",
        "        return self.frequency < other.frequency\n",
        "\n",
        "def huffman_encoding(symbols, frequencies):\n",
        "    # Create a list of nodes from the symbols and frequencies\n",
        "    nodes = [Node(s, f) for s, f in zip(symbols, frequencies)]\n",
        "    \n",
        "    # Use a min heap to efficiently get the nodes with the lowest frequencies\n",
        "    heapq.heapify(nodes)\n",
        "    \n",
        "    # Create the Huffman tree by continually merging the two nodes with the lowest frequencies\n",
        "    while len(nodes) > 1:\n",
        "        left = heapq.heappop(nodes)\n",
        "        right = heapq.heappop(nodes)\n",
        "        node = Node(None, left.frequency + right.frequency)\n",
        "        node.left = left\n",
        "        node.right = right\n",
        "        heapq.heappush(nodes, node)\n",
        "    \n",
        "    # The final node in the heap is the root of the Huffman tree\n",
        "    root = nodes[0]\n",
        "    \n",
        "    # Use a recursive function to traverse the tree and build the encoding table\n",
        "    encoding = {}\n",
        "    def build_encoding(node, prefix=\"\"):\n",
        "        if node.symbol is not None:\n",
        "            encoding[node.symbol] = prefix\n",
        "        else:\n",
        "            build_encoding(node.left, prefix + \"0\")\n",
        "            build_encoding(node.right, prefix + \"1\")\n",
        "    build_encoding(root)\n",
        "    \n",
        "    return encoding"
      ],
      "metadata": {
        "id": "FXpQ5Wl_fUUs"
      },
      "execution_count": 9,
      "outputs": []
    },
    {
      "cell_type": "code",
      "source": [
        "encoding = huffman_encoding(symbols, frequencies)\n",
        "print(encoding)"
      ],
      "metadata": {
        "colab": {
          "base_uri": "https://localhost:8080/"
        },
        "id": "ctVuw3U4fXFE",
        "outputId": "da6fe6ba-cfe4-4728-f73c-143958145cf7"
      },
      "execution_count": 10,
      "outputs": [
        {
          "output_type": "stream",
          "name": "stdout",
          "text": [
            "{'T': '00', 'G': '01', 'CC': '100', 'A': '101', 'C': '11'}\n"
          ]
        }
      ]
    },
    {
      "cell_type": "code",
      "source": [
        "# Define the DNA to binary code dictionary\n",
        "dna_to_binary = encoding\n",
        "\n",
        "# Define the DNA sequence to be converted\n",
        "dna_sequence = sequence\n",
        "\n",
        "# Initialize an empty string to store the binary code\n",
        "Binary = ''\n",
        "\n",
        "# Iterate through the DNA sequence\n",
        "i = 0\n",
        "while i < len(dna_sequence):\n",
        "    if i + 1 < len(dna_sequence) and dna_sequence[i:i+2] in dna_to_binary:\n",
        "        Binary += dna_to_binary[dna_sequence[i:i+2]]\n",
        "        i += 2\n",
        "    elif dna_sequence[i] in dna_to_binary:\n",
        "        Binary += dna_to_binary[dna_sequence[i]]\n",
        "        i += 1\n",
        "    else:\n",
        "        raise ValueError(f\"Invalid DNA base or 2-mer: {dna_sequence[i:i+2]}\")\n",
        "\n",
        "\n",
        "\n"
      ],
      "metadata": {
        "id": "296_zXsrfjF7"
      },
      "execution_count": 11,
      "outputs": []
    },
    {
      "cell_type": "code",
      "source": [
        "R= len(Binary)%8\n",
        "Extra_Binary= Binary[-R :]\n",
        "Binary= Binary[0:-R]"
      ],
      "metadata": {
        "id": "msbsWTZKfzPL"
      },
      "execution_count": 12,
      "outputs": []
    },
    {
      "cell_type": "code",
      "source": [
        "def binary_to_ascii(binary_string):\n",
        "    ascii_string = \"\"\n",
        "    for i in range(0, len(binary_string), 8):\n",
        "        eight_bits = binary_string[i:i+8]\n",
        "        ascii_string += chr(int(eight_bits, 2))\n",
        "    return ascii_string\n",
        "\n"
      ],
      "metadata": {
        "id": "syOaeKS7gIaz"
      },
      "execution_count": 13,
      "outputs": []
    },
    {
      "cell_type": "code",
      "source": [
        "ascii_string = binary_to_ascii(Binary)"
      ],
      "metadata": {
        "id": "8dcUlQ7pgPX7"
      },
      "execution_count": 14,
      "outputs": []
    },
    {
      "cell_type": "code",
      "source": [
        "print(\"Compression Ratio is \", len(ascii_string)/len(sequence))"
      ],
      "metadata": {
        "colab": {
          "base_uri": "https://localhost:8080/"
        },
        "id": "3rEC6WZXQ7wr",
        "outputId": "453b8921-d15d-4953-8726-3e1405610d59"
      },
      "execution_count": 15,
      "outputs": [
        {
          "output_type": "stream",
          "name": "stdout",
          "text": [
            "Compression Ratio is  0.2625607779578606\n"
          ]
        }
      ]
    },
    {
      "cell_type": "code",
      "source": [
        "print(\"****************** writing files **************************\")\n",
        "f = open(\"Dict.txt\", \"w\")\n",
        "f.write(str(encoding))\n",
        "f.close()"
      ],
      "metadata": {
        "colab": {
          "base_uri": "https://localhost:8080/"
        },
        "id": "W6M9_CurQ9UK",
        "outputId": "a363f0fa-bc4e-46ca-e359-800a849fdaee"
      },
      "execution_count": 16,
      "outputs": [
        {
          "output_type": "stream",
          "name": "stdout",
          "text": [
            "****************** writing files **************************\n"
          ]
        }
      ]
    },
    {
      "cell_type": "code",
      "source": [
        "print(\"****************** writing files **************************\")\n",
        "f = open(\"Extra_Binary.txt\", \"w\")\n",
        "f.write(Extra_Binary)\n",
        "f.close()"
      ],
      "metadata": {
        "colab": {
          "base_uri": "https://localhost:8080/"
        },
        "id": "OMQHbVaVRuja",
        "outputId": "4325622f-fee4-440c-d2cd-74a5ee1e3b39"
      },
      "execution_count": 17,
      "outputs": [
        {
          "output_type": "stream",
          "name": "stdout",
          "text": [
            "****************** writing files **************************\n"
          ]
        }
      ]
    },
    {
      "cell_type": "code",
      "source": [
        "print(\"****************** writing files **************************\")\n",
        "f = open(\"compressed.txt\",'w')\n",
        "f.write(ascii_string)\n",
        "f.close()"
      ],
      "metadata": {
        "colab": {
          "base_uri": "https://localhost:8080/"
        },
        "id": "EVXQOkcbR5U5",
        "outputId": "8221222d-2c3a-4686-9e7e-42814fc0a51d"
      },
      "execution_count": 18,
      "outputs": [
        {
          "output_type": "stream",
          "name": "stdout",
          "text": [
            "****************** writing files **************************\n"
          ]
        }
      ]
    },
    {
      "cell_type": "code",
      "source": [
        "print(\"****************** writing files **************************\")\n",
        "f = open(\"meta.txt\", \"w\")\n",
        "f.write(String)\n",
        "f.close()"
      ],
      "metadata": {
        "colab": {
          "base_uri": "https://localhost:8080/"
        },
        "id": "q1uUCNOkR9_p",
        "outputId": "afae5dde-2b48-46ff-a9e7-ccae89e6bf93"
      },
      "execution_count": 19,
      "outputs": [
        {
          "output_type": "stream",
          "name": "stdout",
          "text": [
            "****************** writing files **************************\n"
          ]
        }
      ]
    },
    {
      "cell_type": "code",
      "source": [
        "###### Testing  #################\n",
        "def ascii_to_binary(ascii_string):\n",
        "    binary_string = \"\"\n",
        "    for char in ascii_string:\n",
        "        binary_char = bin(ord(char))[2:].zfill(8)\n",
        "        binary_string += binary_char\n",
        "    return binary_string"
      ],
      "metadata": {
        "id": "-Ax8O3fagWQT"
      },
      "execution_count": 20,
      "outputs": []
    },
    {
      "cell_type": "code",
      "source": [
        "###### Testing  #################\n",
        "#print((len(ascii_string))\n",
        "Binary2 = ascii_to_binary(ascii_string)\n",
        "print(len(Binary2))\n",
        "print(len(ascii_string))\n"
      ],
      "metadata": {
        "colab": {
          "base_uri": "https://localhost:8080/"
        },
        "id": "_93K6Dyoga3M",
        "outputId": "f219e6e9-f862-4b7f-8c07-42b647929489"
      },
      "execution_count": 21,
      "outputs": [
        {
          "output_type": "stream",
          "name": "stdout",
          "text": [
            "1296\n",
            "162\n"
          ]
        }
      ]
    },
    {
      "cell_type": "code",
      "source": [
        "###### Testing  #################\n",
        "\n",
        "if (Binary == Binary2):\n",
        "  print(\"YES\")"
      ],
      "metadata": {
        "colab": {
          "base_uri": "https://localhost:8080/"
        },
        "id": "hW1DeZjaggaD",
        "outputId": "91aef36c-48be-4849-d195-6c8d9c0fb730"
      },
      "execution_count": 22,
      "outputs": [
        {
          "output_type": "stream",
          "name": "stdout",
          "text": [
            "YES\n"
          ]
        }
      ]
    },
    {
      "cell_type": "code",
      "source": [
        "###### Testing  #################\n",
        "\n",
        "Binary2+= Extra_Binary"
      ],
      "metadata": {
        "id": "J4Ocbsgkgp07"
      },
      "execution_count": 23,
      "outputs": []
    },
    {
      "cell_type": "code",
      "source": [
        "###### Testing  #################\n",
        "\n",
        "reversedDict = dict()\n",
        "key_list = list(encoding.keys())\n",
        "val_list = list(encoding.values())\n",
        "n = len(key_list)\n",
        "for i in range(n):\n",
        "    key = val_list[i]\n",
        "    val = key_list[i]\n",
        "    reversedDict[key] = val\n",
        "print(\"The reversed dictionary is:\")\n",
        "print(reversedDict)"
      ],
      "metadata": {
        "colab": {
          "base_uri": "https://localhost:8080/"
        },
        "id": "KBF70VYtxV9V",
        "outputId": "1082504d-f1fe-48e4-91d7-f812ad35b174"
      },
      "execution_count": 24,
      "outputs": [
        {
          "output_type": "stream",
          "name": "stdout",
          "text": [
            "The reversed dictionary is:\n",
            "{'00': 'T', '01': 'G', '100': 'CC', '101': 'A', '11': 'C'}\n"
          ]
        }
      ]
    },
    {
      "cell_type": "code",
      "source": [
        "###### Testing  #################\n",
        "\n",
        "counter = 0\n",
        "S=\"\"\n",
        "\n",
        "t=3\n",
        "A= Binary2\n",
        "\n",
        "for i in range(0,(len(A)-1)):\n",
        "  temp = A[counter:counter+t]\n",
        "  if len(temp) == 1:\n",
        "    break\n",
        "  #print(temp)\n",
        "  if temp in reversedDict: \n",
        "    S+=reversedDict[temp]\n",
        "    #print(temp,\" \", reversedDict[temp])\n",
        "    counter+=3\n",
        "    continue\n",
        "  temp = A[counter:counter+t-1]\n",
        "  if temp in reversedDict: \n",
        "    S+=reversedDict[temp]\n",
        "    #print(temp,\" \", reversedDict[temp])\n",
        "    #print(temp)\n",
        "    counter+=2\n",
        "    continue\n",
        "  temp = A[counter:counter+t-1-1]\n",
        "  if temp in reversedDict: \n",
        "    S+=reversedDict[temp]\n",
        "    #print(temp,\" \", reversedDict[temp])\n",
        "    #print(temp)\n",
        "    counter+=1\n",
        "    continue\n",
        "    \n",
        "\n",
        "\n",
        "\n",
        "#print(S)\n",
        "      \n",
        "\n"
      ],
      "metadata": {
        "id": "fmWRKVzWuI5x"
      },
      "execution_count": 25,
      "outputs": []
    },
    {
      "cell_type": "code",
      "source": [
        "###### Testing  #################\n",
        "\n",
        "print(len(S))\n",
        "print(len(sequence))"
      ],
      "metadata": {
        "colab": {
          "base_uri": "https://localhost:8080/"
        },
        "id": "QIGlGEAQNk-T",
        "outputId": "d5684cd7-f597-43cb-82d0-c945d017d453"
      },
      "execution_count": 26,
      "outputs": [
        {
          "output_type": "stream",
          "name": "stdout",
          "text": [
            "617\n",
            "617\n"
          ]
        }
      ]
    },
    {
      "cell_type": "code",
      "source": [
        "###### Testing  #################\n",
        "\n",
        "if S == sequence :\n",
        "  print(\"Yes\")"
      ],
      "metadata": {
        "id": "xV7jpimmNmP6",
        "colab": {
          "base_uri": "https://localhost:8080/"
        },
        "outputId": "3a84ed7e-f0db-4697-f6be-362844301012"
      },
      "execution_count": 27,
      "outputs": [
        {
          "output_type": "stream",
          "name": "stdout",
          "text": [
            "Yes\n"
          ]
        }
      ]
    },
    {
      "cell_type": "code",
      "source": [
        "sequence\n",
        "print(\"****************** writing files **************************\")\n",
        "f = open(\"sequence.txt\", \"w\")\n",
        "f.write(sequence)\n",
        "f.close()\n"
      ],
      "metadata": {
        "colab": {
          "base_uri": "https://localhost:8080/"
        },
        "id": "6PnZLyR64CY7",
        "outputId": "1d6a7600-006a-48ec-d291-0ea36aac6f7d"
      },
      "execution_count": 28,
      "outputs": [
        {
          "output_type": "stream",
          "name": "stdout",
          "text": [
            "****************** writing files **************************\n"
          ]
        }
      ]
    },
    {
      "cell_type": "code",
      "source": [
        "ls"
      ],
      "metadata": {
        "colab": {
          "base_uri": "https://localhost:8080/"
        },
        "id": "mwg0495RSGTq",
        "outputId": "d577dfa2-ab6b-4c06-af42-2402af8ac6d4"
      },
      "execution_count": 29,
      "outputs": [
        {
          "output_type": "stream",
          "name": "stdout",
          "text": [
            "compressed.txt  Extra_Binary.txt  meta.txt      sequence.txt\n",
            "Dict.txt        genes.fasta.txt   \u001b[0m\u001b[01;34msample_data\u001b[0m/\n"
          ]
        }
      ]
    },
    {
      "cell_type": "code",
      "source": [
        "!zip -r /content/lib.zip /content/lib/"
      ],
      "metadata": {
        "colab": {
          "base_uri": "https://localhost:8080/"
        },
        "id": "mLu5O9DqgXGY",
        "outputId": "1fbce620-327c-4bd2-e22b-46ffb4d59ddc"
      },
      "execution_count": 30,
      "outputs": [
        {
          "output_type": "stream",
          "name": "stdout",
          "text": [
            "\tzip warning: name not matched: /content/lib/\n",
            "\n",
            "zip error: Nothing to do! (try: zip -r /content/lib.zip . -i /content/lib/)\n"
          ]
        }
      ]
    }
  ]
}